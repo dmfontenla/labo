{
 "cells": [
  {
   "cell_type": "code",
   "execution_count": 1,
   "id": "29de5960-9773-4812-a9fc-6dfe81fff9c6",
   "metadata": {
    "collapsed": true,
    "jupyter": {
     "outputs_hidden": true
    },
    "tags": []
   },
   "outputs": [
    {
     "data": {
      "text/html": [
       "<table class=\"dataframe\">\n",
       "<caption>A matrix: 2 × 6 of type dbl</caption>\n",
       "<thead>\n",
       "\t<tr><th></th><th scope=col>used</th><th scope=col>(Mb)</th><th scope=col>gc trigger</th><th scope=col>(Mb)</th><th scope=col>max used</th><th scope=col>(Mb)</th></tr>\n",
       "</thead>\n",
       "<tbody>\n",
       "\t<tr><th scope=row>Ncells</th><td> 620948</td><td>33.2</td><td>1349812</td><td>72.1</td><td>1349812</td><td>72.1</td></tr>\n",
       "\t<tr><th scope=row>Vcells</th><td>1152772</td><td> 8.8</td><td>8388608</td><td>64.0</td><td>1801055</td><td>13.8</td></tr>\n",
       "</tbody>\n",
       "</table>\n"
      ],
      "text/latex": [
       "A matrix: 2 × 6 of type dbl\n",
       "\\begin{tabular}{r|llllll}\n",
       "  & used & (Mb) & gc trigger & (Mb) & max used & (Mb)\\\\\n",
       "\\hline\n",
       "\tNcells &  620948 & 33.2 & 1349812 & 72.1 & 1349812 & 72.1\\\\\n",
       "\tVcells & 1152772 &  8.8 & 8388608 & 64.0 & 1801055 & 13.8\\\\\n",
       "\\end{tabular}\n"
      ],
      "text/markdown": [
       "\n",
       "A matrix: 2 × 6 of type dbl\n",
       "\n",
       "| <!--/--> | used | (Mb) | gc trigger | (Mb) | max used | (Mb) |\n",
       "|---|---|---|---|---|---|---|\n",
       "| Ncells |  620948 | 33.2 | 1349812 | 72.1 | 1349812 | 72.1 |\n",
       "| Vcells | 1152772 |  8.8 | 8388608 | 64.0 | 1801055 | 13.8 |\n",
       "\n"
      ],
      "text/plain": [
       "       used    (Mb) gc trigger (Mb) max used (Mb)\n",
       "Ncells  620948 33.2 1349812    72.1 1349812  72.1\n",
       "Vcells 1152772  8.8 8388608    64.0 1801055  13.8"
      ]
     },
     "metadata": {},
     "output_type": "display_data"
    },
    {
     "name": "stderr",
     "output_type": "stream",
     "text": [
      "Loading required package: data.table\n",
      "\n",
      "Loading required package: lightgbm\n",
      "\n"
     ]
    }
   ],
   "source": [
    "#Necesita para correr en Google Cloud\n",
    "# 128 GB de memoria RAM\n",
    "# 256 GB de espacio en el disco local\n",
    "#   8 vCPU\n",
    "\n",
    "\n",
    "#limpio la memoria\n",
    "rm( list=ls() )  #remove all objects\n",
    "gc()             #garbage collection\n",
    "\n",
    "require(\"data.table\")\n",
    "\n",
    "require(\"lightgbm\")\n",
    "\n",
    "#Parametros del script\n",
    "PARAM  <- list()\n",
    "PARAM$experimento  <- \"ZZ_WFV_comb_3m_6m_hist6meses\"\n",
    "PARAM$exp_input  <- \"HT999_WFV_comb_3m_6m_hist6meses\"\n",
    "\n",
    "PARAM$modelos  <- 2\n",
    "# FIN Parametros del script\n",
    "\n",
    "ksemilla  <- 104701\n",
    "\n",
    "#------------------------------------------------------------------------------"
   ]
  },
  {
   "cell_type": "code",
   "execution_count": 2,
   "id": "4d899a3c-1b47-4ceb-acdb-45d680bf6470",
   "metadata": {},
   "outputs": [],
   "source": [
    "#------------------------------------------------------------------------------\n",
    "options(error = function() { \n",
    "  traceback(20); \n",
    "  options(error = NULL); \n",
    "  stop(\"exiting after script error\") \n",
    "})\n",
    "#------------------------------------------------------------------------------\n"
   ]
  },
  {
   "cell_type": "code",
   "execution_count": 3,
   "id": "8aab3589-d645-43e9-98be-56beb522ff36",
   "metadata": {},
   "outputs": [],
   "source": [
    "#------------------------------------------------------------------------------\n",
    "#Aqui empieza el programa\n",
    "\n",
    "base_dir <- \"~/buckets/b1/\"\n",
    "\n",
    "#creo la carpeta donde va el experimento\n",
    "dir.create( paste0( base_dir, \"exp/\", PARAM$experimento, \"/\"), showWarnings = FALSE )\n",
    "setwd(paste0( base_dir, \"exp/\", PARAM$experimento, \"/\"))   #Establezco el Working Directory DEL EXPERIMENTO\n",
    "\n",
    "#leo la salida de la optimizaciob bayesiana\n",
    "arch_log  <- paste0( base_dir, \"exp/\", PARAM$exp_input, \"/BO_log.txt\" )\n",
    "tb_log  <- fread( arch_log )\n",
    "setorder( tb_log, -ganancia )\n",
    "\n",
    "#leo el nombre del expermento de la Training Strategy\n",
    "arch_TS  <- paste0( base_dir, \"exp/\", PARAM$exp_input, \"/TrainingStrategy.txt\" )\n",
    "TS  <- readLines( arch_TS, warn=FALSE )\n",
    "\n",
    "#leo el dataset donde voy a entrenar el modelo final\n",
    "arch_dataset  <- paste0( base_dir, \"exp/\", TS, \"/dataset_train_final.csv.gz\" )\n",
    "dataset  <- fread( arch_dataset )\n",
    "\n",
    "#leo el dataset donde voy a aplicar el modelo final\n",
    "arch_future  <- paste0( base_dir, \"exp/\", TS, \"/dataset_future.csv.gz\" )\n",
    "dfuture <- fread( arch_future )\n"
   ]
  },
  {
   "cell_type": "code",
   "execution_count": 4,
   "id": "1f9e0297-8743-43dd-97f8-7962ea59e896",
   "metadata": {},
   "outputs": [],
   "source": [
    "#defino la clase binaria\n",
    "dataset[ , clase01 := ifelse( clase_ternaria %in% c(\"BAJA+1\",\"BAJA+2\"), 1, 0 )  ]\n",
    "\n",
    "campos_buenos  <- setdiff( colnames(dataset), c( \"clase_ternaria\", \"clase01\") )\n",
    "\n"
   ]
  },
  {
   "cell_type": "code",
   "execution_count": 5,
   "id": "5b45cdac-09d8-41e7-8219-6d7a66c13a80",
   "metadata": {
    "tags": []
   },
   "outputs": [
    {
     "name": "stderr",
     "output_type": "stream",
     "text": [
      "Warning message in lgb.get.default.num.threads():\n",
      "“Optional package 'RhpcBLASctl' not found. Will use default number of OpenMP threads.”\n"
     ]
    },
    {
     "name": "stdout",
     "output_type": "stream",
     "text": [
      "[LightGBM] [Warning] Unknown parameter: leaf_size_log\n",
      "[LightGBM] [Warning] Unknown parameter: coverage\n",
      "[LightGBM] [Warning] Unknown parameter: envios\n"
     ]
    },
    {
     "name": "stderr",
     "output_type": "stream",
     "text": [
      "Warning message in lgb.get.default.num.threads():\n",
      "“Optional package 'RhpcBLASctl' not found. Will use default number of OpenMP threads.”\n"
     ]
    },
    {
     "name": "stdout",
     "output_type": "stream",
     "text": [
      "[LightGBM] [Warning] Unknown parameter: leaf_size_log\n",
      "[LightGBM] [Warning] Unknown parameter: coverage\n",
      "[LightGBM] [Warning] Unknown parameter: envios\n"
     ]
    }
   ],
   "source": [
    "#genero un modelo para cada uno de las modelos_qty MEJORES iteraciones de la Bayesian Optimization\n",
    "for( i in  1:PARAM$modelos )\n",
    "{\n",
    "  parametros  <- as.list( copy( tb_log[ i ] ) )\n",
    "  iteracion_bayesiana  <- parametros$iteracion_bayesiana\n",
    "\n",
    "  arch_modelo  <- paste0( \"modelo_\" ,\n",
    "                          sprintf( \"%02d\", i ),\n",
    "                          \"_\",\n",
    "                          sprintf( \"%03d\", iteracion_bayesiana ),\n",
    "                          \".model\" )\n",
    "\n",
    "\n",
    "  #creo CADA VEZ el dataset de lightgbm\n",
    "  dtrain  <- lgb.Dataset( data=    data.matrix( dataset[ , campos_buenos, with=FALSE] ),\n",
    "                          label=   dataset[ , clase01],\n",
    "                          weight=  dataset[ , ifelse( clase_ternaria %in% c(\"BAJA+2\"), 1.0000001, 1.0)],\n",
    "                          free_raw_data= FALSE\n",
    "                        )\n",
    "\n",
    "  ganancia  <- parametros$ganancia\n",
    "\n",
    "  #elimino los parametros que no son de lightgbm\n",
    "  parametros$experimento  <- NULL\n",
    "  parametros$cols         <- NULL\n",
    "  parametros$rows         <- NULL\n",
    "  parametros$fecha        <- NULL\n",
    "  parametros$prob_corte   <- NULL\n",
    "  parametros$estimulos    <- NULL\n",
    "  parametros$ganancia     <- NULL\n",
    "  parametros$iteracion_bayesiana  <- NULL\n",
    "\n",
    "  #Utilizo la semilla definida en este script\n",
    "  parametros$seed  <- ksemilla\n",
    "  \n",
    "  #genero el modelo entrenando en los datos finales\n",
    "  set.seed( parametros$seed )\n",
    "  modelo_final  <- lightgbm( data= dtrain,\n",
    "                             param=  parametros,\n",
    "                             verbose= -100 )\n",
    "\n",
    "  #grabo el modelo, achivo .model\n",
    "  lgb.save( modelo_final,\n",
    "            file= arch_modelo )\n",
    "\n",
    "  #creo y grabo la importancia de variables\n",
    "  tb_importancia  <- as.data.table( lgb.importance( modelo_final ) )\n",
    "  fwrite( tb_importancia,\n",
    "          file= paste0( \"impo_\", \n",
    "                        sprintf( \"%02d\", i ),\n",
    "                        \"_\",\n",
    "                        sprintf( \"%03d\", iteracion_bayesiana ),\n",
    "                        \".txt\" ),\n",
    "          sep= \"\\t\" )\n",
    "\n",
    "\n",
    "  #genero la prediccion, Scoring\n",
    "  prediccion  <- predict( modelo_final,\n",
    "                          data.matrix( dfuture[ , campos_buenos, with=FALSE ] ) )\n",
    "\n",
    "  tb_prediccion  <- dfuture[  , list( numero_de_cliente, foto_mes ) ]\n",
    "  tb_prediccion[ , prob := prediccion ]\n",
    "\n",
    "\n",
    "  nom_pred  <- paste0( \"pred_\",\n",
    "                       sprintf( \"%02d\", i ),\n",
    "                       \"_\",\n",
    "                       sprintf( \"%03d\", iteracion_bayesiana),\n",
    "                       \".csv\"  )\n",
    "\n",
    "  fwrite( tb_prediccion,\n",
    "          file= nom_pred,\n",
    "          sep= \"\\t\" )\n",
    "\n",
    "\n",
    "  #genero los archivos para Kaggle\n",
    "  cortes  <- seq( from=  8000,\n",
    "                  to=   13000,\n",
    "                  by=     500 )\n",
    "\n",
    "\n",
    "  setorder( tb_prediccion, -prob )\n",
    "\n",
    "  for( corte in cortes )\n",
    "  {\n",
    "    tb_prediccion[  , Predicted := 0L ]\n",
    "    tb_prediccion[ 1:corte, Predicted := 1L ]\n",
    "\n",
    "    nom_submit  <- paste0( PARAM$experimento, \n",
    "                           \"_\",\n",
    "                           sprintf( \"%02d\", i ),\n",
    "                           \"_\",\n",
    "                           sprintf( \"%03d\", iteracion_bayesiana ),\n",
    "                           \"_\",\n",
    "                           sprintf( \"%05d\", corte ),\n",
    "                           \".csv\" )\n",
    "\n",
    "    fwrite(  tb_prediccion[ , list( numero_de_cliente, Predicted ) ],\n",
    "             file= nom_submit,\n",
    "             sep= \",\" )\n",
    "\n",
    "  }\n",
    "\n",
    "\n",
    "  #borro y limpio la memoria para la vuelta siguiente del for\n",
    "  rm( tb_prediccion )\n",
    "  rm( tb_importancia )\n",
    "  rm( modelo_final)\n",
    "  rm( parametros )\n",
    "  rm( dtrain )\n",
    "  gc()\n",
    "}\n"
   ]
  },
  {
   "cell_type": "code",
   "execution_count": null,
   "id": "843e946b-18a8-494c-90e8-7cd0514783a9",
   "metadata": {},
   "outputs": [],
   "source": []
  },
  {
   "cell_type": "code",
   "execution_count": null,
   "id": "84a453ef-2261-48a2-b468-f82164cab7b7",
   "metadata": {},
   "outputs": [],
   "source": []
  },
  {
   "cell_type": "code",
   "execution_count": null,
   "id": "8d62ef07-1e2e-49dc-b8bb-35e4e53599f0",
   "metadata": {},
   "outputs": [],
   "source": []
  }
 ],
 "metadata": {
  "kernelspec": {
   "display_name": "R",
   "language": "R",
   "name": "ir"
  },
  "language_info": {
   "codemirror_mode": "r",
   "file_extension": ".r",
   "mimetype": "text/x-r-source",
   "name": "R",
   "pygments_lexer": "r",
   "version": "4.2.1"
  }
 },
 "nbformat": 4,
 "nbformat_minor": 5
}
